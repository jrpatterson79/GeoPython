{
 "cells": [
  {
   "cell_type": "markdown",
   "metadata": {},
   "source": [
    "# Problem 1 - Defining Variables"
   ]
  },
  {
   "cell_type": "code",
   "execution_count": 2,
   "metadata": {},
   "outputs": [],
   "source": [
    "ice_cream_rating = 10\n",
    "sleep_rating = 8"
   ]
  },
  {
   "cell_type": "markdown",
   "metadata": {},
   "source": [
    "# Problem 2 - Reading in Values"
   ]
  },
  {
   "cell_type": "code",
   "execution_count": 9,
   "metadata": {},
   "outputs": [
    {
     "name": "stdout",
     "output_type": "stream",
     "text": [
      "What is your first name?Jeremy\n",
      "What is your last name?Patterson\n",
      "['Jeremy', 'Patterson']\n"
     ]
    }
   ],
   "source": [
    "first_name = input('What is your first name?')\n",
    "last_name = input('What is your last name?')\n",
    "full_name = [first_name, last_name]\n",
    "print(str(full_name))"
   ]
  },
  {
   "cell_type": "markdown",
   "metadata": {},
   "source": [
    " # Problem 3 - A Bit of Math"
   ]
  },
  {
   "cell_type": "code",
   "execution_count": 12,
   "metadata": {},
   "outputs": [
    {
     "name": "stdout",
     "output_type": "stream",
     "text": [
      "Happiness =  9.0\n"
     ]
    }
   ],
   "source": [
    "happiness_rating = (ice_cream_rating + sleep_rating) / 2\n",
    "print('Happiness = ', happiness_rating)"
   ]
  },
  {
   "cell_type": "markdown",
   "metadata": {},
   "source": [
    "# Problem 4 - Checking Data Types"
   ]
  },
  {
   "cell_type": "code",
   "execution_count": null,
   "metadata": {},
   "outputs": [],
   "source": [
    "print('Ice cream is ', type(ice_cream_rating), ', Sleep is ', type(sleep_rating), ', Happiness is ', type(happiness_rating))"
   ]
  },
  {
   "cell_type": "markdown",
   "metadata": {},
   "source": [
    "# Problem 5 - Displaying Text on Screen"
   ]
  },
  {
   "cell_type": "code",
   "execution_count": 20,
   "metadata": {},
   "outputs": [
    {
     "name": "stdout",
     "output_type": "stream",
     "text": [
      "My name is Jeremy and I give eating ice cream a score of 10 out of 10.\n",
      "I am Jeremy Patterson and my sleep rating score is 8 /10\n",
      "Based on the factors above, my happiness rating is 9.0 or 90.0 %\n"
     ]
    }
   ],
   "source": [
    "print('My name is', first_name, 'and I give eating ice cream a score of', ice_cream_rating, 'out of 10.')\n",
    "print('I am', first_name, last_name, 'and my sleep rating score is', sleep_rating, '/10')\n",
    "print('Based on the factors above, my happiness rating is', happiness_rating, 'or', (happiness_rating/10) * 100 , '%')"
   ]
  }
 ],
 "metadata": {
  "kernelspec": {
   "display_name": "Python 3",
   "language": "python",
   "name": "python3"
  },
  "language_info": {
   "codemirror_mode": {
    "name": "ipython",
    "version": 3
   },
   "file_extension": ".py",
   "mimetype": "text/x-python",
   "name": "python",
   "nbconvert_exporter": "python",
   "pygments_lexer": "ipython3",
   "version": "3.7.6"
  }
 },
 "nbformat": 4,
 "nbformat_minor": 4
}
